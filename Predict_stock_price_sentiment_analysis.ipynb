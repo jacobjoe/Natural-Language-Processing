{
 "cells": [
  {
   "cell_type": "code",
   "execution_count": 1,
   "metadata": {},
   "outputs": [],
   "source": [
    "# import pandas library\n",
    "import pandas as pd"
   ]
  },
  {
   "cell_type": "code",
   "execution_count": 4,
   "metadata": {},
   "outputs": [
    {
     "data": {
      "text/html": [
       "<div>\n",
       "<style scoped>\n",
       "    .dataframe tbody tr th:only-of-type {\n",
       "        vertical-align: middle;\n",
       "    }\n",
       "\n",
       "    .dataframe tbody tr th {\n",
       "        vertical-align: top;\n",
       "    }\n",
       "\n",
       "    .dataframe thead th {\n",
       "        text-align: right;\n",
       "    }\n",
       "</style>\n",
       "<table border=\"1\" class=\"dataframe\">\n",
       "  <thead>\n",
       "    <tr style=\"text-align: right;\">\n",
       "      <th></th>\n",
       "      <th>Date</th>\n",
       "      <th>Label</th>\n",
       "      <th>Top1</th>\n",
       "      <th>Top2</th>\n",
       "      <th>Top3</th>\n",
       "      <th>Top4</th>\n",
       "      <th>Top5</th>\n",
       "      <th>Top6</th>\n",
       "      <th>Top7</th>\n",
       "      <th>Top8</th>\n",
       "      <th>...</th>\n",
       "      <th>Top16</th>\n",
       "      <th>Top17</th>\n",
       "      <th>Top18</th>\n",
       "      <th>Top19</th>\n",
       "      <th>Top20</th>\n",
       "      <th>Top21</th>\n",
       "      <th>Top22</th>\n",
       "      <th>Top23</th>\n",
       "      <th>Top24</th>\n",
       "      <th>Top25</th>\n",
       "    </tr>\n",
       "  </thead>\n",
       "  <tbody>\n",
       "    <tr>\n",
       "      <th>0</th>\n",
       "      <td>2000-01-03</td>\n",
       "      <td>0</td>\n",
       "      <td>A 'hindrance to operations': extracts from the...</td>\n",
       "      <td>Scorecard</td>\n",
       "      <td>Hughes' instant hit buoys Blues</td>\n",
       "      <td>Jack gets his skates on at ice-cold Alex</td>\n",
       "      <td>Chaos as Maracana builds up for United</td>\n",
       "      <td>Depleted Leicester prevail as Elliott spoils E...</td>\n",
       "      <td>Hungry Spurs sense rich pickings</td>\n",
       "      <td>Gunners so wide of an easy target</td>\n",
       "      <td>...</td>\n",
       "      <td>Flintoff injury piles on woe for England</td>\n",
       "      <td>Hunters threaten Jospin with new battle of the...</td>\n",
       "      <td>Kohl's successor drawn into scandal</td>\n",
       "      <td>The difference between men and women</td>\n",
       "      <td>Sara Denver, nurse turned solicitor</td>\n",
       "      <td>Diana's landmine crusade put Tories in a panic</td>\n",
       "      <td>Yeltsin's resignation caught opposition flat-f...</td>\n",
       "      <td>Russian roulette</td>\n",
       "      <td>Sold out</td>\n",
       "      <td>Recovering a title</td>\n",
       "    </tr>\n",
       "    <tr>\n",
       "      <th>1</th>\n",
       "      <td>2000-01-04</td>\n",
       "      <td>0</td>\n",
       "      <td>Scorecard</td>\n",
       "      <td>The best lake scene</td>\n",
       "      <td>Leader: German sleaze inquiry</td>\n",
       "      <td>Cheerio, boyo</td>\n",
       "      <td>The main recommendations</td>\n",
       "      <td>Has Cubie killed fees?</td>\n",
       "      <td>Has Cubie killed fees?</td>\n",
       "      <td>Has Cubie killed fees?</td>\n",
       "      <td>...</td>\n",
       "      <td>On the critical list</td>\n",
       "      <td>The timing of their lives</td>\n",
       "      <td>Dear doctor</td>\n",
       "      <td>Irish court halts IRA man's extradition to Nor...</td>\n",
       "      <td>Burundi peace initiative fades after rebels re...</td>\n",
       "      <td>PE points the way forward to the ECB</td>\n",
       "      <td>Campaigners keep up pressure on Nazi war crime...</td>\n",
       "      <td>Jane Ratcliffe</td>\n",
       "      <td>Yet more things you wouldn't know without the ...</td>\n",
       "      <td>Millennium bug fails to bite</td>\n",
       "    </tr>\n",
       "    <tr>\n",
       "      <th>2</th>\n",
       "      <td>2000-01-05</td>\n",
       "      <td>0</td>\n",
       "      <td>Coventry caught on counter by Flo</td>\n",
       "      <td>United's rivals on the road to Rio</td>\n",
       "      <td>Thatcher issues defence before trial by video</td>\n",
       "      <td>Police help Smith lay down the law at Everton</td>\n",
       "      <td>Tale of Trautmann bears two more retellings</td>\n",
       "      <td>England on the rack</td>\n",
       "      <td>Pakistan retaliate with call for video of Walsh</td>\n",
       "      <td>Cullinan continues his Cape monopoly</td>\n",
       "      <td>...</td>\n",
       "      <td>South Melbourne (Australia)</td>\n",
       "      <td>Necaxa (Mexico)</td>\n",
       "      <td>Real Madrid (Spain)</td>\n",
       "      <td>Raja Casablanca (Morocco)</td>\n",
       "      <td>Corinthians (Brazil)</td>\n",
       "      <td>Tony's pet project</td>\n",
       "      <td>Al Nassr (Saudi Arabia)</td>\n",
       "      <td>Ideal Holmes show</td>\n",
       "      <td>Pinochet leaves hospital after tests</td>\n",
       "      <td>Useful links</td>\n",
       "    </tr>\n",
       "  </tbody>\n",
       "</table>\n",
       "<p>3 rows × 27 columns</p>\n",
       "</div>"
      ],
      "text/plain": [
       "         Date  Label                                               Top1  \\\n",
       "0  2000-01-03      0  A 'hindrance to operations': extracts from the...   \n",
       "1  2000-01-04      0                                          Scorecard   \n",
       "2  2000-01-05      0                  Coventry caught on counter by Flo   \n",
       "\n",
       "                                 Top2  \\\n",
       "0                           Scorecard   \n",
       "1                 The best lake scene   \n",
       "2  United's rivals on the road to Rio   \n",
       "\n",
       "                                            Top3  \\\n",
       "0                Hughes' instant hit buoys Blues   \n",
       "1                  Leader: German sleaze inquiry   \n",
       "2  Thatcher issues defence before trial by video   \n",
       "\n",
       "                                            Top4  \\\n",
       "0       Jack gets his skates on at ice-cold Alex   \n",
       "1                                  Cheerio, boyo   \n",
       "2  Police help Smith lay down the law at Everton   \n",
       "\n",
       "                                          Top5  \\\n",
       "0       Chaos as Maracana builds up for United   \n",
       "1                     The main recommendations   \n",
       "2  Tale of Trautmann bears two more retellings   \n",
       "\n",
       "                                                Top6  \\\n",
       "0  Depleted Leicester prevail as Elliott spoils E...   \n",
       "1                             Has Cubie killed fees?   \n",
       "2                                England on the rack   \n",
       "\n",
       "                                              Top7  \\\n",
       "0                 Hungry Spurs sense rich pickings   \n",
       "1                           Has Cubie killed fees?   \n",
       "2  Pakistan retaliate with call for video of Walsh   \n",
       "\n",
       "                                   Top8  ...  \\\n",
       "0     Gunners so wide of an easy target  ...   \n",
       "1                Has Cubie killed fees?  ...   \n",
       "2  Cullinan continues his Cape monopoly  ...   \n",
       "\n",
       "                                      Top16  \\\n",
       "0  Flintoff injury piles on woe for England   \n",
       "1                      On the critical list   \n",
       "2               South Melbourne (Australia)   \n",
       "\n",
       "                                               Top17  \\\n",
       "0  Hunters threaten Jospin with new battle of the...   \n",
       "1                          The timing of their lives   \n",
       "2                                    Necaxa (Mexico)   \n",
       "\n",
       "                                 Top18  \\\n",
       "0  Kohl's successor drawn into scandal   \n",
       "1                          Dear doctor   \n",
       "2                  Real Madrid (Spain)   \n",
       "\n",
       "                                               Top19  \\\n",
       "0               The difference between men and women   \n",
       "1  Irish court halts IRA man's extradition to Nor...   \n",
       "2                          Raja Casablanca (Morocco)   \n",
       "\n",
       "                                               Top20  \\\n",
       "0                Sara Denver, nurse turned solicitor   \n",
       "1  Burundi peace initiative fades after rebels re...   \n",
       "2                               Corinthians (Brazil)   \n",
       "\n",
       "                                            Top21  \\\n",
       "0  Diana's landmine crusade put Tories in a panic   \n",
       "1            PE points the way forward to the ECB   \n",
       "2                              Tony's pet project   \n",
       "\n",
       "                                               Top22              Top23  \\\n",
       "0  Yeltsin's resignation caught opposition flat-f...   Russian roulette   \n",
       "1  Campaigners keep up pressure on Nazi war crime...     Jane Ratcliffe   \n",
       "2                            Al Nassr (Saudi Arabia)  Ideal Holmes show   \n",
       "\n",
       "                                               Top24  \\\n",
       "0                                           Sold out   \n",
       "1  Yet more things you wouldn't know without the ...   \n",
       "2               Pinochet leaves hospital after tests   \n",
       "\n",
       "                          Top25  \n",
       "0            Recovering a title  \n",
       "1  Millennium bug fails to bite  \n",
       "2                  Useful links  \n",
       "\n",
       "[3 rows x 27 columns]"
      ]
     },
     "execution_count": 4,
     "metadata": {},
     "output_type": "execute_result"
    }
   ],
   "source": [
    "df = pd.read_csv('https://raw.githubusercontent.com/jacobjoe/data_for_jupyter_notebook/master/Stock_data_for_sentimen_analysis.csv')\n",
    "df.head(3)"
   ]
  },
  {
   "cell_type": "code",
   "execution_count": 5,
   "metadata": {},
   "outputs": [
    {
     "data": {
      "text/plain": [
       "Index(['Date', 'Label', 'Top1', 'Top2', 'Top3', 'Top4', 'Top5', 'Top6', 'Top7',\n",
       "       'Top8', 'Top9', 'Top10', 'Top11', 'Top12', 'Top13', 'Top14', 'Top15',\n",
       "       'Top16', 'Top17', 'Top18', 'Top19', 'Top20', 'Top21', 'Top22', 'Top23',\n",
       "       'Top24', 'Top25'],\n",
       "      dtype='object')"
      ]
     },
     "execution_count": 5,
     "metadata": {},
     "output_type": "execute_result"
    }
   ],
   "source": [
    "# To view column names\n",
    "df.columns"
   ]
  },
  {
   "cell_type": "code",
   "execution_count": 6,
   "metadata": {},
   "outputs": [
    {
     "data": {
      "text/plain": [
       "27"
      ]
     },
     "execution_count": 6,
     "metadata": {},
     "output_type": "execute_result"
    }
   ],
   "source": [
    "len(df.columns)"
   ]
  },
  {
   "cell_type": "code",
   "execution_count": 8,
   "metadata": {},
   "outputs": [
    {
     "data": {
      "text/plain": [
       "str"
      ]
     },
     "execution_count": 8,
     "metadata": {},
     "output_type": "execute_result"
    }
   ],
   "source": [
    "type(df['Date'][0])"
   ]
  },
  {
   "cell_type": "code",
   "execution_count": 11,
   "metadata": {},
   "outputs": [
    {
     "data": {
      "text/plain": [
       "<bound method IndexOpsMixin.value_counts of 0       2000-01-03\n",
       "1       2000-01-04\n",
       "2       2000-01-05\n",
       "3       2000-01-06\n",
       "4       2000-01-07\n",
       "           ...    \n",
       "4096    2016-06-27\n",
       "4097    2016-06-28\n",
       "4098    2016-06-29\n",
       "4099    2016-06-30\n",
       "4100    2016-07-01\n",
       "Name: Date, Length: 4101, dtype: object>"
      ]
     },
     "execution_count": 11,
     "metadata": {},
     "output_type": "execute_result"
    }
   ],
   "source": [
    "df['Date'].value_counts"
   ]
  },
  {
   "cell_type": "code",
   "execution_count": 12,
   "metadata": {},
   "outputs": [],
   "source": [
    "#Split train and test data\n",
    "train = df[df['Date'] < '20150101']\n",
    "test = df[df['Date'] > '20141231']"
   ]
  },
  {
   "cell_type": "code",
   "execution_count": 14,
   "metadata": {},
   "outputs": [],
   "source": [
    "# Remove character except small and capital letters\n",
    "data = train.iloc[:, 2:27]\n",
    "data.replace('^[a-zA-Z]', ' ', regex = True, inplace = True)"
   ]
  },
  {
   "cell_type": "code",
   "execution_count": 15,
   "metadata": {},
   "outputs": [
    {
     "data": {
      "text/plain": [
       "Index(['Top1', 'Top2', 'Top3', 'Top4', 'Top5', 'Top6', 'Top7', 'Top8', 'Top9',\n",
       "       'Top10', 'Top11', 'Top12', 'Top13', 'Top14', 'Top15', 'Top16', 'Top17',\n",
       "       'Top18', 'Top19', 'Top20', 'Top21', 'Top22', 'Top23', 'Top24', 'Top25'],\n",
       "      dtype='object')"
      ]
     },
     "execution_count": 15,
     "metadata": {},
     "output_type": "execute_result"
    }
   ],
   "source": [
    "data.columns"
   ]
  },
  {
   "cell_type": "code",
   "execution_count": 17,
   "metadata": {},
   "outputs": [
    {
     "data": {
      "text/html": [
       "<div>\n",
       "<style scoped>\n",
       "    .dataframe tbody tr th:only-of-type {\n",
       "        vertical-align: middle;\n",
       "    }\n",
       "\n",
       "    .dataframe tbody tr th {\n",
       "        vertical-align: top;\n",
       "    }\n",
       "\n",
       "    .dataframe thead th {\n",
       "        text-align: right;\n",
       "    }\n",
       "</style>\n",
       "<table border=\"1\" class=\"dataframe\">\n",
       "  <thead>\n",
       "    <tr style=\"text-align: right;\">\n",
       "      <th></th>\n",
       "      <th>1</th>\n",
       "      <th>2</th>\n",
       "      <th>3</th>\n",
       "      <th>4</th>\n",
       "      <th>5</th>\n",
       "      <th>6</th>\n",
       "      <th>7</th>\n",
       "      <th>8</th>\n",
       "      <th>9</th>\n",
       "      <th>10</th>\n",
       "      <th>...</th>\n",
       "      <th>16</th>\n",
       "      <th>17</th>\n",
       "      <th>18</th>\n",
       "      <th>19</th>\n",
       "      <th>20</th>\n",
       "      <th>21</th>\n",
       "      <th>22</th>\n",
       "      <th>23</th>\n",
       "      <th>24</th>\n",
       "      <th>25</th>\n",
       "    </tr>\n",
       "  </thead>\n",
       "  <tbody>\n",
       "    <tr>\n",
       "      <th>0</th>\n",
       "      <td>'hindrance to operations': extracts from the...</td>\n",
       "      <td>corecard</td>\n",
       "      <td>ughes' instant hit buoys Blues</td>\n",
       "      <td>ack gets his skates on at ice-cold Alex</td>\n",
       "      <td>haos as Maracana builds up for United</td>\n",
       "      <td>epleted Leicester prevail as Elliott spoils E...</td>\n",
       "      <td>ungry Spurs sense rich pickings</td>\n",
       "      <td>unners so wide of an easy target</td>\n",
       "      <td>erby raise a glass to Strupar's debut double</td>\n",
       "      <td>outhgate strikes, Leeds pay the penalty</td>\n",
       "      <td>...</td>\n",
       "      <td>lintoff injury piles on woe for England</td>\n",
       "      <td>unters threaten Jospin with new battle of the...</td>\n",
       "      <td>ohl's successor drawn into scandal</td>\n",
       "      <td>he difference between men and women</td>\n",
       "      <td>ara Denver, nurse turned solicitor</td>\n",
       "      <td>iana's landmine crusade put Tories in a panic</td>\n",
       "      <td>eltsin's resignation caught opposition flat-f...</td>\n",
       "      <td>ussian roulette</td>\n",
       "      <td>old out</td>\n",
       "      <td>ecovering a title</td>\n",
       "    </tr>\n",
       "    <tr>\n",
       "      <th>1</th>\n",
       "      <td>corecard</td>\n",
       "      <td>he best lake scene</td>\n",
       "      <td>eader: German sleaze inquiry</td>\n",
       "      <td>heerio, boyo</td>\n",
       "      <td>he main recommendations</td>\n",
       "      <td>as Cubie killed fees?</td>\n",
       "      <td>as Cubie killed fees?</td>\n",
       "      <td>as Cubie killed fees?</td>\n",
       "      <td>opkins 'furious' at Foster's lack of Hannibal...</td>\n",
       "      <td>as Cubie killed fees?</td>\n",
       "      <td>...</td>\n",
       "      <td>n the critical list</td>\n",
       "      <td>he timing of their lives</td>\n",
       "      <td>ear doctor</td>\n",
       "      <td>rish court halts IRA man's extradition to Nor...</td>\n",
       "      <td>urundi peace initiative fades after rebels re...</td>\n",
       "      <td>E points the way forward to the ECB</td>\n",
       "      <td>ampaigners keep up pressure on Nazi war crime...</td>\n",
       "      <td>ane Ratcliffe</td>\n",
       "      <td>et more things you wouldn't know without the ...</td>\n",
       "      <td>illennium bug fails to bite</td>\n",
       "    </tr>\n",
       "  </tbody>\n",
       "</table>\n",
       "<p>2 rows × 25 columns</p>\n",
       "</div>"
      ],
      "text/plain": [
       "                                                   1                    2  \\\n",
       "0    'hindrance to operations': extracts from the...             corecard   \n",
       "1                                           corecard   he best lake scene   \n",
       "\n",
       "                                 3                                         4  \\\n",
       "0   ughes' instant hit buoys Blues   ack gets his skates on at ice-cold Alex   \n",
       "1     eader: German sleaze inquiry                              heerio, boyo   \n",
       "\n",
       "                                        5  \\\n",
       "0   haos as Maracana builds up for United   \n",
       "1                 he main recommendations   \n",
       "\n",
       "                                                   6  \\\n",
       "0   epleted Leicester prevail as Elliott spoils E...   \n",
       "1                              as Cubie killed fees?   \n",
       "\n",
       "                                  7                                  8  \\\n",
       "0   ungry Spurs sense rich pickings   unners so wide of an easy target   \n",
       "1             as Cubie killed fees?              as Cubie killed fees?   \n",
       "\n",
       "                                                   9  \\\n",
       "0       erby raise a glass to Strupar's debut double   \n",
       "1   opkins 'furious' at Foster's lack of Hannibal...   \n",
       "\n",
       "                                         10  ...  \\\n",
       "0   outhgate strikes, Leeds pay the penalty  ...   \n",
       "1                     as Cubie killed fees?  ...   \n",
       "\n",
       "                                         16  \\\n",
       "0   lintoff injury piles on woe for England   \n",
       "1                       n the critical list   \n",
       "\n",
       "                                                  17  \\\n",
       "0   unters threaten Jospin with new battle of the...   \n",
       "1                           he timing of their lives   \n",
       "\n",
       "                                    18  \\\n",
       "0   ohl's successor drawn into scandal   \n",
       "1                           ear doctor   \n",
       "\n",
       "                                                  19  \\\n",
       "0                he difference between men and women   \n",
       "1   rish court halts IRA man's extradition to Nor...   \n",
       "\n",
       "                                                  20  \\\n",
       "0                 ara Denver, nurse turned solicitor   \n",
       "1   urundi peace initiative fades after rebels re...   \n",
       "\n",
       "                                               21  \\\n",
       "0   iana's landmine crusade put Tories in a panic   \n",
       "1             E points the way forward to the ECB   \n",
       "\n",
       "                                                  22                23  \\\n",
       "0   eltsin's resignation caught opposition flat-f...   ussian roulette   \n",
       "1   ampaigners keep up pressure on Nazi war crime...     ane Ratcliffe   \n",
       "\n",
       "                                                  24  \\\n",
       "0                                            old out   \n",
       "1   et more things you wouldn't know without the ...   \n",
       "\n",
       "                             25  \n",
       "0             ecovering a title  \n",
       "1   illennium bug fails to bite  \n",
       "\n",
       "[2 rows x 25 columns]"
      ]
     },
     "execution_count": 17,
     "metadata": {},
     "output_type": "execute_result"
    }
   ],
   "source": [
    "# Rename column names for our convinience\n",
    "list_1 = [i for i in range(1, 26)]\n",
    "new_index = [str(i) for i in list_1]\n",
    "data.columns = new_index\n",
    "data.head(2)"
   ]
  },
  {
   "cell_type": "code",
   "execution_count": 18,
   "metadata": {},
   "outputs": [
    {
     "data": {
      "text/plain": [
       "\" corecard  he best lake scene  eader: German sleaze inquiry  heerio, boyo  he main recommendations  as Cubie killed fees?  as Cubie killed fees?  as Cubie killed fees?  opkins 'furious' at Foster's lack of Hannibal appetite  as Cubie killed fees?   tale of two tails   say what I like and I like what I say  lbows, Eyes and Nipples  ask force to assess risk of asteroid collision  ow I found myself at last  n the critical list  he timing of their lives  ear doctor  rish court halts IRA man's extradition to Northern Ireland  urundi peace initiative fades after rebels reject Mandela as mediator  E points the way forward to the ECB  ampaigners keep up pressure on Nazi war crimes suspect  ane Ratcliffe  et more things you wouldn't know without the movies  illennium bug fails to bite\""
      ]
     },
     "execution_count": 18,
     "metadata": {},
     "output_type": "execute_result"
    }
   ],
   "source": [
    "# check - add all column and make them as paragraph in first row\n",
    "' '.join(x for x in data.iloc[1, :])"
   ]
  },
  {
   "cell_type": "code",
   "execution_count": 24,
   "metadata": {},
   "outputs": [],
   "source": [
    "# Convert all data into paragraph and append them in list 'headline'\n",
    "headlines = []\n",
    "for row in range(len(data.index)):\n",
    "    headlines.append(' '.join(str(x) for x in data.iloc[row, :]))"
   ]
  },
  {
   "cell_type": "code",
   "execution_count": 26,
   "metadata": {},
   "outputs": [
    {
     "data": {
      "text/plain": [
       "\"  'hindrance to operations': extracts from the leaked reports  corecard  ughes' instant hit buoys Blues  ack gets his skates on at ice-cold Alex  haos as Maracana builds up for United  epleted Leicester prevail as Elliott spoils Everton's party  ungry Spurs sense rich pickings  unners so wide of an easy target  erby raise a glass to Strupar's debut double  outhgate strikes, Leeds pay the penalty  ammers hand Robson a youthful lesson  aints party like it's 1999  ear wolves have turned into lambs  tump mike catches testy Gough's taunt  anger escapes to hit 167  lintoff injury piles on woe for England  unters threaten Jospin with new battle of the Somme  ohl's successor drawn into scandal  he difference between men and women  ara Denver, nurse turned solicitor  iana's landmine crusade put Tories in a panic  eltsin's resignation caught opposition flat-footed  ussian roulette  old out  ecovering a title\""
      ]
     },
     "execution_count": 26,
     "metadata": {},
     "output_type": "execute_result"
    }
   ],
   "source": [
    "headlines[0]"
   ]
  },
  {
   "cell_type": "code",
   "execution_count": 27,
   "metadata": {},
   "outputs": [],
   "source": [
    "# import countvectorizer and random classifier\n",
    "from sklearn.feature_extraction.text import CountVectorizer\n",
    "from sklearn.ensemble import RandomForestClassifier"
   ]
  },
  {
   "cell_type": "code",
   "execution_count": 28,
   "metadata": {},
   "outputs": [],
   "source": [
    "cv = CountVectorizer(ngram_range=(2, 2))\n",
    "train_dataset = cv.fit_transform(headlines)"
   ]
  },
  {
   "cell_type": "code",
   "execution_count": 34,
   "metadata": {},
   "outputs": [
    {
     "data": {
      "text/plain": [
       "RandomForestClassifier(criterion='entropy', n_estimators=200)"
      ]
     },
     "execution_count": 34,
     "metadata": {},
     "output_type": "execute_result"
    }
   ],
   "source": [
    "rf_classifier = RandomForestClassifier(n_estimators=200, criterion = 'entropy')\n",
    "rf_classifier.fit(train_dataset, train['Label'])"
   ]
  },
  {
   "cell_type": "code",
   "execution_count": 43,
   "metadata": {},
   "outputs": [],
   "source": [
    "# make test data as paragraph and append them in a list\n",
    "test_transform = []\n",
    "for row in range(0, len(test.index)):\n",
    "    test_transform.append(' '.join(str(x) for x in test.iloc[row, 2:27]))"
   ]
  },
  {
   "cell_type": "code",
   "execution_count": 44,
   "metadata": {},
   "outputs": [],
   "source": [
    "test_dataset = cv.transform(test_transform)\n",
    "prediction = rf_classifier.predict(test_dataset)"
   ]
  },
  {
   "cell_type": "code",
   "execution_count": 47,
   "metadata": {},
   "outputs": [],
   "source": [
    "from sklearn.metrics import accuracy_score, confusion_matrix"
   ]
  },
  {
   "cell_type": "code",
   "execution_count": 48,
   "metadata": {},
   "outputs": [
    {
     "data": {
      "text/plain": [
       "array([[136,  50],\n",
       "       [ 14, 178]], dtype=int64)"
      ]
     },
     "execution_count": 48,
     "metadata": {},
     "output_type": "execute_result"
    }
   ],
   "source": [
    "confusion_matrix(test['Label'], prediction)"
   ]
  },
  {
   "cell_type": "code",
   "execution_count": 49,
   "metadata": {},
   "outputs": [
    {
     "data": {
      "text/plain": [
       "0.8306878306878307"
      ]
     },
     "execution_count": 49,
     "metadata": {},
     "output_type": "execute_result"
    }
   ],
   "source": [
    "accuracy_score(test['Label'], prediction)"
   ]
  }
 ],
 "metadata": {
  "kernelspec": {
   "display_name": "Python 3",
   "language": "python",
   "name": "python3"
  },
  "language_info": {
   "codemirror_mode": {
    "name": "ipython",
    "version": 3
   },
   "file_extension": ".py",
   "mimetype": "text/x-python",
   "name": "python",
   "nbconvert_exporter": "python",
   "pygments_lexer": "ipython3",
   "version": "3.8.5"
  }
 },
 "nbformat": 4,
 "nbformat_minor": 4
}
